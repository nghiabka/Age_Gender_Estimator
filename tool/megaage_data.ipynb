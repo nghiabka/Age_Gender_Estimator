{
 "cells": [
  {
   "cell_type": "code",
   "execution_count": 4,
   "metadata": {},
   "outputs": [
    {
     "name": "stderr",
     "output_type": "stream",
     "text": [
      "Using TensorFlow backend.\n",
      "/home/dev/Documents/Project_age_gender/lib/python3.6/site-packages/tensorflow/python/framework/dtypes.py:526: FutureWarning: Passing (type, 1) or '1type' as a synonym of type is deprecated; in a future version of numpy, it will be understood as (type, (1,)) / '(1,)type'.\n",
      "  _np_qint8 = np.dtype([(\"qint8\", np.int8, 1)])\n",
      "/home/dev/Documents/Project_age_gender/lib/python3.6/site-packages/tensorflow/python/framework/dtypes.py:527: FutureWarning: Passing (type, 1) or '1type' as a synonym of type is deprecated; in a future version of numpy, it will be understood as (type, (1,)) / '(1,)type'.\n",
      "  _np_quint8 = np.dtype([(\"quint8\", np.uint8, 1)])\n",
      "/home/dev/Documents/Project_age_gender/lib/python3.6/site-packages/tensorflow/python/framework/dtypes.py:528: FutureWarning: Passing (type, 1) or '1type' as a synonym of type is deprecated; in a future version of numpy, it will be understood as (type, (1,)) / '(1,)type'.\n",
      "  _np_qint16 = np.dtype([(\"qint16\", np.int16, 1)])\n",
      "/home/dev/Documents/Project_age_gender/lib/python3.6/site-packages/tensorflow/python/framework/dtypes.py:529: FutureWarning: Passing (type, 1) or '1type' as a synonym of type is deprecated; in a future version of numpy, it will be understood as (type, (1,)) / '(1,)type'.\n",
      "  _np_quint16 = np.dtype([(\"quint16\", np.uint16, 1)])\n",
      "/home/dev/Documents/Project_age_gender/lib/python3.6/site-packages/tensorflow/python/framework/dtypes.py:530: FutureWarning: Passing (type, 1) or '1type' as a synonym of type is deprecated; in a future version of numpy, it will be understood as (type, (1,)) / '(1,)type'.\n",
      "  _np_qint32 = np.dtype([(\"qint32\", np.int32, 1)])\n",
      "/home/dev/Documents/Project_age_gender/lib/python3.6/site-packages/tensorflow/python/framework/dtypes.py:535: FutureWarning: Passing (type, 1) or '1type' as a synonym of type is deprecated; in a future version of numpy, it will be understood as (type, (1,)) / '(1,)type'.\n",
      "  np_resource = np.dtype([(\"resource\", np.ubyte, 1)])\n"
     ]
    }
   ],
   "source": [
    "import os \n",
    "from tqdm import tqdm\n",
    "from collections import Counter\n",
    "import pandas as pd\n",
    "from keras.models import model_from_json\n",
    "import cv2\n",
    "import numpy as np"
   ]
  },
  {
   "cell_type": "code",
   "execution_count": 5,
   "metadata": {},
   "outputs": [],
   "source": [
    "# !pip install pandas"
   ]
  },
  {
   "cell_type": "code",
   "execution_count": 6,
   "metadata": {},
   "outputs": [],
   "source": [
    "label_age = {\n",
    "        '0': '(1-12)',\n",
    "        '1': '(13-18)',\n",
    "        '2': '(19- 22)',\n",
    "        '3': '(23-29)',\n",
    "        '4': '(30-34)',\n",
    "        '5': '(35-39)',\n",
    "        '6': '(40-44)',\n",
    "        '7': '(45-50)',\n",
    "        '8': '(51-59)',\n",
    "        '9': '(>60)'\n",
    "}\n",
    "\n",
    "FEMALE = 0\n",
    "MALE = 1\n"
   ]
  },
  {
   "cell_type": "code",
   "execution_count": 14,
   "metadata": {},
   "outputs": [],
   "source": [
    "#thong ke tuoi trong tap test\n",
    "def expoler_age(path_folder):\n",
    "    list_age = []\n",
    "    with open(path_folder, \"r\") as f:\n",
    "        for line in f:\n",
    "            age = int(line.strip())\n",
    "            if age <= 12:\n",
    "                age = \"0\"\n",
    "            elif  13 <= age and age <= 18:\n",
    "                age = \"1\"\n",
    "            elif  19 <= age <= 22:\n",
    "                age = \"2\"\n",
    "            elif  23 <= age <= 29:\n",
    "                age = \"3\"\n",
    "            elif 30 <= age <= 34:\n",
    "                age = \"4\"\n",
    "            elif 35 <= age <= 39:\n",
    "                age = \"5\"\n",
    "            elif 40 <= age <= 44:\n",
    "                age = \"6\"\n",
    "            elif 45 <= age <= 50:\n",
    "                age = \"7\"\n",
    "            elif 51 <= age <= 59:\n",
    "                age = \"8\"\n",
    "            elif age >=60:\n",
    "                age = \"9\"\n",
    "            list_age.append(age)\n",
    "    \n",
    "    return list_age"
   ]
  },
  {
   "cell_type": "code",
   "execution_count": 15,
   "metadata": {},
   "outputs": [
    {
     "name": "stdout",
     "output_type": "stream",
     "text": [
      "Counter({'0': 1349, '3': 743, '4': 465, '1': 435, '2': 368, '5': 223, '6': 111, '9': 88, '7': 82, '8': 81})\n",
      "3945\n"
     ]
    },
    {
     "data": {
      "image/png": "[encoded data removed]",
      "text/plain": [
       "<Figure size 432x288 with 1 Axes>"
      ]
     },
     "metadata": {
      "needs_background": "light"
     },
     "output_type": "display_data"
    }
   ],
   "source": [
    "list_age_test = expoler_age(\"./list/test_age.txt\")\n",
    "print(Counter(list_age_test))\n",
    "print(len(list_age_test))\n",
    "#visulize\n",
    "df_age_test = pd.DataFrame(index = range(0, len(list_age_test)), columns=[\"age\"])\n",
    "df_age_test[\"age\"] = list_age_test \n",
    "histogram_age = df_age_test['age'].hist(bins=df_age_test['age'].nunique())\n"
   ]
  },
  {
   "cell_type": "code",
   "execution_count": 16,
   "metadata": {},
   "outputs": [
    {
     "name": "stdout",
     "output_type": "stream",
     "text": [
      "Counter({'3': 7593, '0': 5912, '5': 4203, '8': 4117, '6': 3500, '2': 3286, '4': 3285, '1': 3004, '7': 3001, '9': 2099})\n",
      "40000\n"
     ]
    },
    {
     "data": {
      "image/png": "[encoded data removed]",
      "text/plain": [
       "<Figure size 432x288 with 1 Axes>"
      ]
     },
     "metadata": {
      "needs_background": "light"
     },
     "output_type": "display_data"
    }
   ],
   "source": [
    "#thong ke tuoi cho tap train\n",
    "list_age_train = expoler_age(\"./list/train_age.txt\")\n",
    "print(Counter(list_age_train))\n",
    "print(len(list_age_train))\n",
    "#visulize\n",
    "df_age_train = pd.DataFrame(index = range(0, len(list_age_train)), columns=[\"age\"])\n",
    "df_age_train[\"age\"] = list_age_train \n",
    "histogram_age = df_age_train['age'].hist(bins=df_age_train['age'].nunique())"
   ]
  },
  {
   "cell_type": "code",
   "execution_count": 17,
   "metadata": {},
   "outputs": [],
   "source": [
    "#thong ke size anh\n",
    "def statistic_size_image(path_foler):\n",
    "    list_image = os.listdir(path_foler)\n",
    "    list_shape = []\n",
    "    for img in tqdm(list_image):\n",
    "        path_image = os.path.join(path_foler, img)\n",
    "        image = cv2.imread(path_image)\n",
    "        list_shape.append(image.shape)\n",
    "    return list_shape\n",
    "\n",
    "# list_shape_test = statistic_size_image(\"./test\")\n",
    "# print(len(list_shape_test))\n",
    "# list_shape_train = statistic_size_image(\"./train\")\n",
    "# print(Counter(list_shape_test))\n",
    "\n"
   ]
  },
  {
   "cell_type": "code",
   "execution_count": 18,
   "metadata": {},
   "outputs": [],
   "source": [
    "#visulize shape\n",
    "# total_shape = list_shape_train+ list_shape_test\n",
    "# print(Counter(total_shape))\n",
    "# df_total_shape = pd.DataFrame(index = range(0, len(total_shape)), columns=[\"shape\"])\n",
    "# df_total_shape[\"shape\"] = total_shape \n",
    "# histogram_shape = df_total_shape['shape'].hist(bins=df_total_shape['shape'].nunique())\n"
   ]
  },
  {
   "cell_type": "code",
   "execution_count": 20,
   "metadata": {},
   "outputs": [
    {
     "name": "stdout",
     "output_type": "stream",
     "text": [
      "WARNING:tensorflow:From /home/dev/Documents/Project_age_gender/lib/python3.6/site-packages/tensorflow/python/framework/op_def_library.py:263: colocate_with (from tensorflow.python.framework.ops) is deprecated and will be removed in a future version.\n",
      "Instructions for updating:\n",
      "Colocations handled automatically by placer.\n",
      "WARNING:tensorflow:From /home/dev/Documents/Project_age_gender/lib/python3.6/site-packages/keras/backend/tensorflow_backend.py:3445: calling dropout (from tensorflow.python.ops.nn_ops) with keep_prob is deprecated and will be removed in a future version.\n",
      "Instructions for updating:\n",
      "Please use `rate` instead of `keep_prob`. Rate should be set to `rate = 1 - keep_prob`.\n",
      "Loaded model from disk\n"
     ]
    }
   ],
   "source": [
    "# load model\n",
    "def load_model(model_path):\n",
    "\n",
    "    json_file = open(model_path + '/inceptionv4.json', 'r')\n",
    "    loaded_model_json = json_file.read()\n",
    "    json_file.close()\n",
    "    model = model_from_json(loaded_model_json)\n",
    "\n",
    "    # load weights into new model\n",
    "    model.load_weights(model_path + \"/inceptionv4.h5\")\n",
    "    print(\"Loaded model from disk\")\n",
    "\n",
    "\n",
    "    return model\n",
    "\n",
    "model = load_model(\"../inceptionv4/model_v4/model_v4_dropout\")"
   ]
  },
  {
   "cell_type": "code",
   "execution_count": 21,
   "metadata": {},
   "outputs": [
    {
     "name": "stderr",
     "output_type": "stream",
     "text": [
      "100%|██████████| 3945/3945 [20:32<00:00,  3.20it/s]\n",
      "100%|██████████| 40000/40000 [2:42:17<00:00,  4.11it/s]  \n"
     ]
    }
   ],
   "source": [
    "#gan nhan gender\n",
    "def set_gender(path_folder_origin, path_foler_save, list_age):\n",
    "    if not os.path.exists(path_foler_save):\n",
    "        os.mkdir(path_foler_save)\n",
    "    for i in tqdm(range(len(list_age))):\n",
    "        try:\n",
    "            img_path = os.path.join(path_folder_origin,str(i+1)+\".jpg\")\n",
    "            img = cv2.imread(img_path)\n",
    "            #luu anh goc\n",
    "            img_origin = img\n",
    "\n",
    "            img =img/255\n",
    "            img = cv2.resize(img,(224, 224))\n",
    "            img = img.reshape(1, 224, 224, 3)\n",
    "        except:\n",
    "            print(\"pass\")\n",
    "            continue\n",
    "        if img is None:\n",
    "            continue\n",
    "        gender, _ = model.predict(img)\n",
    "        gender = np.argmax(gender)\n",
    "        # neu thu muc tuoi chua ton tai , tao no\n",
    "        age_dir_path = os.path.join(path_foler_save, str(list_age[i]))\n",
    "        if not os.path.exists(age_dir_path):\n",
    "            os.mkdir(age_dir_path)\n",
    "        #neu thu muc gen der chua ton tai , create\n",
    "        \n",
    "        gender_dir_path = os.path.join(age_dir_path, str(gender))\n",
    "        if not os.path.exists(gender_dir_path):\n",
    "            os.mkdir(gender_dir_path)\n",
    "        #save image\n",
    "        cv2.imwrite(os.path.join(gender_dir_path, str(i)+\".jpg\"), img_origin)\n",
    "        \n",
    "set_gender(\"./test\", \"./data_process/test\", list_age_test)\n",
    "set_gender(\"./train\", \"./data_process/train\", list_age_train)\n"
   ]
  },
  {
   "cell_type": "code",
   "execution_count": null,
   "metadata": {},
   "outputs": [],
   "source": []
  }
 ],
 "metadata": {
  "kernelspec": {
   "display_name": "Python 3",
   "language": "python",
   "name": "python3"
  },
  "language_info": {
   "codemirror_mode": {
    "name": "ipython",
    "version": 3
   },
   "file_extension": ".py",
   "mimetype": "text/x-python",
   "name": "python",
   "nbconvert_exporter": "python",
   "pygments_lexer": "ipython3",
   "version": "3.6.8"
  }
 },
 "nbformat": 4,
 "nbformat_minor": 4
}
