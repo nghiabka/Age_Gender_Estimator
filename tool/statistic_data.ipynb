{
 "cells": [
  {
   "cell_type": "code",
   "execution_count": 1,
   "metadata": {},
   "outputs": [
    {
     "name": "stderr",
     "output_type": "stream",
     "text": [
      "Using TensorFlow backend.\n",
      "/home/dev/Documents/Project_age_gender/lib/python3.6/site-packages/tensorflow/python/framework/dtypes.py:526: FutureWarning: Passing (type, 1) or '1type' as a synonym of type is deprecated; in a future version of numpy, it will be understood as (type, (1,)) / '(1,)type'.\n",
      "  _np_qint8 = np.dtype([(\"qint8\", np.int8, 1)])\n",
      "/home/dev/Documents/Project_age_gender/lib/python3.6/site-packages/tensorflow/python/framework/dtypes.py:527: FutureWarning: Passing (type, 1) or '1type' as a synonym of type is deprecated; in a future version of numpy, it will be understood as (type, (1,)) / '(1,)type'.\n",
      "  _np_quint8 = np.dtype([(\"quint8\", np.uint8, 1)])\n",
      "/home/dev/Documents/Project_age_gender/lib/python3.6/site-packages/tensorflow/python/framework/dtypes.py:528: FutureWarning: Passing (type, 1) or '1type' as a synonym of type is deprecated; in a future version of numpy, it will be understood as (type, (1,)) / '(1,)type'.\n",
      "  _np_qint16 = np.dtype([(\"qint16\", np.int16, 1)])\n",
      "/home/dev/Documents/Project_age_gender/lib/python3.6/site-packages/tensorflow/python/framework/dtypes.py:529: FutureWarning: Passing (type, 1) or '1type' as a synonym of type is deprecated; in a future version of numpy, it will be understood as (type, (1,)) / '(1,)type'.\n",
      "  _np_quint16 = np.dtype([(\"quint16\", np.uint16, 1)])\n",
      "/home/dev/Documents/Project_age_gender/lib/python3.6/site-packages/tensorflow/python/framework/dtypes.py:530: FutureWarning: Passing (type, 1) or '1type' as a synonym of type is deprecated; in a future version of numpy, it will be understood as (type, (1,)) / '(1,)type'.\n",
      "  _np_qint32 = np.dtype([(\"qint32\", np.int32, 1)])\n",
      "/home/dev/Documents/Project_age_gender/lib/python3.6/site-packages/tensorflow/python/framework/dtypes.py:535: FutureWarning: Passing (type, 1) or '1type' as a synonym of type is deprecated; in a future version of numpy, it will be understood as (type, (1,)) / '(1,)type'.\n",
      "  np_resource = np.dtype([(\"resource\", np.ubyte, 1)])\n"
     ]
    }
   ],
   "source": [
    "import pathlib\n",
    "import os\n",
    "import cv2\n",
    "import glob\n",
    "import copy\n",
    "import time\n",
    "import numpy as np\n",
    "import random\n",
    "import keras\n",
    "from keras.models import model_from_json\n",
    "import matplotlib.pyplot as plt\n",
    "import warnings\n",
    "warnings.filterwarnings('ignore')+"
   ]
  },
  {
   "cell_type": "code",
   "execution_count": null,
   "metadata": {},
   "outputs": [],
   "source": []
  },
  {
   "cell_type": "code",
   "execution_count": 2,
   "metadata": {},
   "outputs": [],
   "source": [
    "def get_list_path(path):\n",
    "    \"\"\"\n",
    "    :param path:  path to datasets ( data )\n",
    "    :return: list of path to image with format: data/{age_label}/{gender_label/img.*}\n",
    "    \"\"\"\n",
    "    data_root = pathlib.Path(path)\n",
    "    all_image_paths = data_root.glob('*/*/*')\n",
    "    all_path_images = [str(path_img) for path_img in all_image_paths]\n",
    "    random.shuffle(all_path_images)\n",
    "    return all_path_images\n"
   ]
  },
  {
   "cell_type": "code",
   "execution_count": 3,
   "metadata": {},
   "outputs": [],
   "source": [
    "all_image_data = get_list_path('../data')\n",
    "all_image_aug = get_list_path('../data_agu/train')\n",
    "all_image_data.extend(all_image_aug)"
   ]
  },
  {
   "cell_type": "code",
   "execution_count": 4,
   "metadata": {},
   "outputs": [],
   "source": [
    "def get_age_label(all_image_data):\n",
    "    age_list = []\n",
    "    for path_img in all_image_data:\n",
    "        path_root = pathlib.Path(path_img)\n",
    "        age = path_root.parent.parent.name\n",
    "        age_list.append(age)\n",
    "    return age_list"
   ]
  },
  {
   "cell_type": "markdown",
   "metadata": {},
   "source": [
    "# remove image shape <100 in data augment ( 4,5 age label)"
   ]
  },
  {
   "cell_type": "code",
   "execution_count": 5,
   "metadata": {},
   "outputs": [],
   "source": [
    "def remove_image(list_path):\n",
    "    count = 0\n",
    "    for path in list_path:\n",
    "        img = cv2.imread(path)\n",
    "        height, _, _ = img.shape\n",
    "        if height < 100:\n",
    "            try:\n",
    "                os.remove(path)\n",
    "                print('remove: {}'.format(path))\n",
    "                count+=1\n",
    "            except:\n",
    "                pass\n",
    "    print(\"Total: {}\".format(count))"
   ]
  },
  {
   "cell_type": "code",
   "execution_count": null,
   "metadata": {},
   "outputs": [],
   "source": []
  },
  {
   "cell_type": "code",
   "execution_count": 6,
   "metadata": {},
   "outputs": [],
   "source": [
    "pt = glob.glob('../data_finetune/data_train/mega_age/6/1/*.jpg')\n",
    "random.shuffle(pt)\n",
    "cp_pt = copy.deepcopy(pt)"
   ]
  },
  {
   "cell_type": "code",
   "execution_count": 7,
   "metadata": {},
   "outputs": [
    {
     "data": {
      "text/plain": [
       "['../data_finetune/data_train/mega_age/6/1/12727.jpg',\n",
       " '../data_finetune/data_train/mega_age/6/1/37883.jpg',\n",
       " '../data_finetune/data_train/mega_age/6/1/8565.jpg',\n",
       " '../data_finetune/data_train/mega_age/6/1/31429.jpg',\n",
       " '../data_finetune/data_train/mega_age/6/1/16344.jpg',\n",
       " '../data_finetune/data_train/mega_age/6/1/37915.jpg',\n",
       " '../data_finetune/data_train/mega_age/6/1/15262.jpg',\n",
       " '../data_finetune/data_train/mega_age/6/1/38227.jpg',\n",
       " '../data_finetune/data_train/mega_age/6/1/10720.jpg',\n",
       " '../data_finetune/data_train/mega_age/6/1/15190.jpg',\n",
       " '../data_finetune/data_train/mega_age/6/1/25478.jpg',\n",
       " '../data_finetune/data_train/mega_age/6/1/12720.jpg',\n",
       " '../data_finetune/data_train/mega_age/6/1/30757.jpg',\n",
       " '../data_finetune/data_train/mega_age/6/1/17045.jpg',\n",
       " '../data_finetune/data_train/mega_age/6/1/32027.jpg',\n",
       " '../data_finetune/data_train/mega_age/6/1/1494.jpg',\n",
       " '../data_finetune/data_train/mega_age/6/1/9002.jpg',\n",
       " '../data_finetune/data_train/mega_age/6/1/37809.jpg',\n",
       " '../data_finetune/data_train/mega_age/6/1/13076.jpg',\n",
       " '../data_finetune/data_train/mega_age/6/1/15553.jpg',\n",
       " '../data_finetune/data_train/mega_age/6/1/4246.jpg',\n",
       " '../data_finetune/data_train/mega_age/6/1/12743.jpg',\n",
       " '../data_finetune/data_train/mega_age/6/1/33820.jpg',\n",
       " '../data_finetune/data_train/mega_age/6/1/17038.jpg',\n",
       " '../data_finetune/data_train/mega_age/6/1/33217.jpg',\n",
       " '../data_finetune/data_train/mega_age/6/1/25242.jpg',\n",
       " '../data_finetune/data_train/mega_age/6/1/24201.jpg',\n",
       " '../data_finetune/data_train/mega_age/6/1/33672.jpg',\n",
       " '../data_finetune/data_train/mega_age/6/1/31536.jpg',\n",
       " '../data_finetune/data_train/mega_age/6/1/37458.jpg',\n",
       " '../data_finetune/data_train/mega_age/6/1/13188.jpg',\n",
       " '../data_finetune/data_train/mega_age/6/1/34422.jpg',\n",
       " '../data_finetune/data_train/mega_age/6/1/4958.jpg',\n",
       " '../data_finetune/data_train/mega_age/6/1/9242.jpg',\n",
       " '../data_finetune/data_train/mega_age/6/1/28565.jpg',\n",
       " '../data_finetune/data_train/mega_age/6/1/31568.jpg',\n",
       " '../data_finetune/data_train/mega_age/6/1/12249.jpg',\n",
       " '../data_finetune/data_train/mega_age/6/1/17566.jpg',\n",
       " '../data_finetune/data_train/mega_age/6/1/33765.jpg',\n",
       " '../data_finetune/data_train/mega_age/6/1/27381.jpg',\n",
       " '../data_finetune/data_train/mega_age/6/1/38702.jpg',\n",
       " '../data_finetune/data_train/mega_age/6/1/13194.jpg',\n",
       " '../data_finetune/data_train/mega_age/6/1/18243.jpg',\n",
       " '../data_finetune/data_train/mega_age/6/1/28818.jpg',\n",
       " '../data_finetune/data_train/mega_age/6/1/16461.jpg',\n",
       " '../data_finetune/data_train/mega_age/6/1/33015.jpg',\n",
       " '../data_finetune/data_train/mega_age/6/1/5007.jpg',\n",
       " '../data_finetune/data_train/mega_age/6/1/13747.jpg',\n",
       " '../data_finetune/data_train/mega_age/6/1/31091.jpg',\n",
       " '../data_finetune/data_train/mega_age/6/1/19122.jpg',\n",
       " '../data_finetune/data_train/mega_age/6/1/12441.jpg',\n",
       " '../data_finetune/data_train/mega_age/6/1/13175.jpg',\n",
       " '../data_finetune/data_train/mega_age/6/1/31986.jpg',\n",
       " '../data_finetune/data_train/mega_age/6/1/35641.jpg',\n",
       " '../data_finetune/data_train/mega_age/6/1/3252.jpg',\n",
       " '../data_finetune/data_train/mega_age/6/1/30654.jpg',\n",
       " '../data_finetune/data_train/mega_age/6/1/22013.jpg',\n",
       " '../data_finetune/data_train/mega_age/6/1/26556.jpg',\n",
       " '../data_finetune/data_train/mega_age/6/1/16862.jpg',\n",
       " '../data_finetune/data_train/mega_age/6/1/13422.jpg',\n",
       " '../data_finetune/data_train/mega_age/6/1/16959.jpg',\n",
       " '../data_finetune/data_train/mega_age/6/1/30015.jpg',\n",
       " '../data_finetune/data_train/mega_age/6/1/12501.jpg',\n",
       " '../data_finetune/data_train/mega_age/6/1/10366.jpg',\n",
       " '../data_finetune/data_train/mega_age/6/1/3000.jpg',\n",
       " '../data_finetune/data_train/mega_age/6/1/16186.jpg',\n",
       " '../data_finetune/data_train/mega_age/6/1/26332.jpg',\n",
       " '../data_finetune/data_train/mega_age/6/1/35782.jpg',\n",
       " '../data_finetune/data_train/mega_age/6/1/37522.jpg',\n",
       " '../data_finetune/data_train/mega_age/6/1/39397.jpg',\n",
       " '../data_finetune/data_train/mega_age/6/1/36709.jpg',\n",
       " '../data_finetune/data_train/mega_age/6/1/22675.jpg',\n",
       " '../data_finetune/data_train/mega_age/6/1/38488.jpg',\n",
       " '../data_finetune/data_train/mega_age/6/1/32971.jpg',\n",
       " '../data_finetune/data_train/mega_age/6/1/34926.jpg',\n",
       " '../data_finetune/data_train/mega_age/6/1/10609.jpg',\n",
       " '../data_finetune/data_train/mega_age/6/1/20751.jpg',\n",
       " '../data_finetune/data_train/mega_age/6/1/14063.jpg',\n",
       " '../data_finetune/data_train/mega_age/6/1/21131.jpg',\n",
       " '../data_finetune/data_train/mega_age/6/1/25350.jpg',\n",
       " '../data_finetune/data_train/mega_age/6/1/31056.jpg',\n",
       " '../data_finetune/data_train/mega_age/6/1/20558.jpg',\n",
       " '../data_finetune/data_train/mega_age/6/1/35029.jpg',\n",
       " '../data_finetune/data_train/mega_age/6/1/37541.jpg',\n",
       " '../data_finetune/data_train/mega_age/6/1/22470.jpg',\n",
       " '../data_finetune/data_train/mega_age/6/1/12579.jpg',\n",
       " '../data_finetune/data_train/mega_age/6/1/17666.jpg',\n",
       " '../data_finetune/data_train/mega_age/6/1/37928.jpg',\n",
       " '../data_finetune/data_train/mega_age/6/1/25993.jpg',\n",
       " '../data_finetune/data_train/mega_age/6/1/36425.jpg',\n",
       " '../data_finetune/data_train/mega_age/6/1/36391.jpg',\n",
       " '../data_finetune/data_train/mega_age/6/1/21048.jpg',\n",
       " '../data_finetune/data_train/mega_age/6/1/23625.jpg',\n",
       " '../data_finetune/data_train/mega_age/6/1/28466.jpg',\n",
       " '../data_finetune/data_train/mega_age/6/1/37576.jpg',\n",
       " '../data_finetune/data_train/mega_age/6/1/36103.jpg',\n",
       " '../data_finetune/data_train/mega_age/6/1/25804.jpg',\n",
       " '../data_finetune/data_train/mega_age/6/1/11386.jpg',\n",
       " '../data_finetune/data_train/mega_age/6/1/17541.jpg',\n",
       " '../data_finetune/data_train/mega_age/6/1/39785.jpg',\n",
       " '../data_finetune/data_train/mega_age/6/1/14973.jpg',\n",
       " '../data_finetune/data_train/mega_age/6/1/7613.jpg',\n",
       " '../data_finetune/data_train/mega_age/6/1/13959.jpg',\n",
       " '../data_finetune/data_train/mega_age/6/1/3236.jpg',\n",
       " '../data_finetune/data_train/mega_age/6/1/26856.jpg',\n",
       " '../data_finetune/data_train/mega_age/6/1/16649.jpg',\n",
       " '../data_finetune/data_train/mega_age/6/1/6388.jpg',\n",
       " '../data_finetune/data_train/mega_age/6/1/23238.jpg',\n",
       " '../data_finetune/data_train/mega_age/6/1/32424.jpg',\n",
       " '../data_finetune/data_train/mega_age/6/1/33500.jpg',\n",
       " '../data_finetune/data_train/mega_age/6/1/31923.jpg',\n",
       " '../data_finetune/data_train/mega_age/6/1/25202.jpg',\n",
       " '../data_finetune/data_train/mega_age/6/1/34812.jpg',\n",
       " '../data_finetune/data_train/mega_age/6/1/36702.jpg',\n",
       " '../data_finetune/data_train/mega_age/6/1/26428.jpg',\n",
       " '../data_finetune/data_train/mega_age/6/1/19267.jpg',\n",
       " '../data_finetune/data_train/mega_age/6/1/9696.jpg',\n",
       " '../data_finetune/data_train/mega_age/6/1/11990.jpg',\n",
       " '../data_finetune/data_train/mega_age/6/1/18901.jpg',\n",
       " '../data_finetune/data_train/mega_age/6/1/5343.jpg',\n",
       " '../data_finetune/data_train/mega_age/6/1/12044.jpg',\n",
       " '../data_finetune/data_train/mega_age/6/1/39935.jpg',\n",
       " '../data_finetune/data_train/mega_age/6/1/16357.jpg',\n",
       " '../data_finetune/data_train/mega_age/6/1/28558.jpg',\n",
       " '../data_finetune/data_train/mega_age/6/1/36287.jpg',\n",
       " '../data_finetune/data_train/mega_age/6/1/28950.jpg',\n",
       " '../data_finetune/data_train/mega_age/6/1/21462.jpg',\n",
       " '../data_finetune/data_train/mega_age/6/1/29595.jpg',\n",
       " '../data_finetune/data_train/mega_age/6/1/19965.jpg',\n",
       " '../data_finetune/data_train/mega_age/6/1/20386.jpg',\n",
       " '../data_finetune/data_train/mega_age/6/1/27310.jpg',\n",
       " '../data_finetune/data_train/mega_age/6/1/10012.jpg',\n",
       " '../data_finetune/data_train/mega_age/6/1/36551.jpg',\n",
       " '../data_finetune/data_train/mega_age/6/1/13929.jpg',\n",
       " '../data_finetune/data_train/mega_age/6/1/21242.jpg',\n",
       " '../data_finetune/data_train/mega_age/6/1/30862.jpg',\n",
       " '../data_finetune/data_train/mega_age/6/1/11849.jpg',\n",
       " '../data_finetune/data_train/mega_age/6/1/6675.jpg',\n",
       " '../data_finetune/data_train/mega_age/6/1/10189.jpg',\n",
       " '../data_finetune/data_train/mega_age/6/1/20255.jpg',\n",
       " '../data_finetune/data_train/mega_age/6/1/19601.jpg',\n",
       " '../data_finetune/data_train/mega_age/6/1/4980.jpg',\n",
       " '../data_finetune/data_train/mega_age/6/1/6206.jpg',\n",
       " '../data_finetune/data_train/mega_age/6/1/14430.jpg',\n",
       " '../data_finetune/data_train/mega_age/6/1/4835.jpg',\n",
       " '../data_finetune/data_train/mega_age/6/1/22805.jpg',\n",
       " '../data_finetune/data_train/mega_age/6/1/11096.jpg',\n",
       " '../data_finetune/data_train/mega_age/6/1/865.jpg',\n",
       " '../data_finetune/data_train/mega_age/6/1/18358.jpg',\n",
       " '../data_finetune/data_train/mega_age/6/1/37014.jpg',\n",
       " '../data_finetune/data_train/mega_age/6/1/29361.jpg',\n",
       " '../data_finetune/data_train/mega_age/6/1/12556.jpg',\n",
       " '../data_finetune/data_train/mega_age/6/1/23544.jpg',\n",
       " '../data_finetune/data_train/mega_age/6/1/27540.jpg',\n",
       " '../data_finetune/data_train/mega_age/6/1/26750.jpg',\n",
       " '../data_finetune/data_train/mega_age/6/1/18548.jpg',\n",
       " '../data_finetune/data_train/mega_age/6/1/11220.jpg',\n",
       " '../data_finetune/data_train/mega_age/6/1/14080.jpg',\n",
       " '../data_finetune/data_train/mega_age/6/1/37842.jpg',\n",
       " '../data_finetune/data_train/mega_age/6/1/1868.jpg',\n",
       " '../data_finetune/data_train/mega_age/6/1/25421.jpg',\n",
       " '../data_finetune/data_train/mega_age/6/1/6028.jpg',\n",
       " '../data_finetune/data_train/mega_age/6/1/10009.jpg',\n",
       " '../data_finetune/data_train/mega_age/6/1/25217.jpg',\n",
       " '../data_finetune/data_train/mega_age/6/1/12622.jpg',\n",
       " '../data_finetune/data_train/mega_age/6/1/35036.jpg',\n",
       " '../data_finetune/data_train/mega_age/6/1/21025.jpg',\n",
       " '../data_finetune/data_train/mega_age/6/1/30772.jpg',\n",
       " '../data_finetune/data_train/mega_age/6/1/8667.jpg',\n",
       " '../data_finetune/data_train/mega_age/6/1/17833.jpg',\n",
       " '../data_finetune/data_train/mega_age/6/1/35947.jpg',\n",
       " '../data_finetune/data_train/mega_age/6/1/17354.jpg',\n",
       " '../data_finetune/data_train/mega_age/6/1/5635.jpg',\n",
       " '../data_finetune/data_train/mega_age/6/1/11200.jpg',\n",
       " '../data_finetune/data_train/mega_age/6/1/30889.jpg',\n",
       " '../data_finetune/data_train/mega_age/6/1/27450.jpg',\n",
       " '../data_finetune/data_train/mega_age/6/1/12559.jpg',\n",
       " '../data_finetune/data_train/mega_age/6/1/28459.jpg',\n",
       " '../data_finetune/data_train/mega_age/6/1/3641.jpg',\n",
       " '../data_finetune/data_train/mega_age/6/1/19412.jpg',\n",
       " '../data_finetune/data_train/mega_age/6/1/2822.jpg',\n",
       " '../data_finetune/data_train/mega_age/6/1/39094.jpg',\n",
       " '../data_finetune/data_train/mega_age/6/1/28829.jpg',\n",
       " '../data_finetune/data_train/mega_age/6/1/24389.jpg',\n",
       " '../data_finetune/data_train/mega_age/6/1/30374.jpg',\n",
       " '../data_finetune/data_train/mega_age/6/1/36787.jpg',\n",
       " '../data_finetune/data_train/mega_age/6/1/37834.jpg',\n",
       " '../data_finetune/data_train/mega_age/6/1/28201.jpg',\n",
       " '../data_finetune/data_train/mega_age/6/1/35213.jpg',\n",
       " '../data_finetune/data_train/mega_age/6/1/36293.jpg',\n",
       " '../data_finetune/data_train/mega_age/6/1/5031.jpg',\n",
       " '../data_finetune/data_train/mega_age/6/1/29369.jpg',\n",
       " '../data_finetune/data_train/mega_age/6/1/17000.jpg',\n",
       " '../data_finetune/data_train/mega_age/6/1/10410.jpg',\n",
       " '../data_finetune/data_train/mega_age/6/1/22304.jpg',\n",
       " '../data_finetune/data_train/mega_age/6/1/22558.jpg',\n",
       " '../data_finetune/data_train/mega_age/6/1/26319.jpg',\n",
       " '../data_finetune/data_train/mega_age/6/1/32548.jpg',\n",
       " '../data_finetune/data_train/mega_age/6/1/9009.jpg',\n",
       " '../data_finetune/data_train/mega_age/6/1/25863.jpg',\n",
       " '../data_finetune/data_train/mega_age/6/1/32357.jpg',\n",
       " '../data_finetune/data_train/mega_age/6/1/2528.jpg',\n",
       " '../data_finetune/data_train/mega_age/6/1/18077.jpg',\n",
       " '../data_finetune/data_train/mega_age/6/1/13165.jpg']"
      ]
     },
     "execution_count": 7,
     "metadata": {},
     "output_type": "execute_result"
    }
   ],
   "source": [
    "pt"
   ]
  },
  {
   "cell_type": "code",
   "execution_count": 8,
   "metadata": {},
   "outputs": [],
   "source": [
    "i = cv2.imread('../data_finetune/data_train/mega_age/6/1/1057.jpg')"
   ]
  },
  {
   "cell_type": "code",
   "execution_count": null,
   "metadata": {},
   "outputs": [],
   "source": []
  },
  {
   "cell_type": "code",
   "execution_count": 9,
   "metadata": {},
   "outputs": [],
   "source": [
    "ct = 0\n",
    "for path in cp_pt:\n",
    "    try:\n",
    "        img = cv2.imread(path)\n",
    "        h, w, _ = img.shape\n",
    "        if img is None or h < 80 or w < 80 or type(img) is NoneType:\n",
    "            os.remove(path)\n",
    "            ct+=1\n",
    "    except:\n",
    "        pass"
   ]
  },
  {
   "cell_type": "code",
   "execution_count": 10,
   "metadata": {},
   "outputs": [
    {
     "data": {
      "text/plain": [
       "0"
      ]
     },
     "execution_count": 10,
     "metadata": {},
     "output_type": "execute_result"
    }
   ],
   "source": [
    "ct"
   ]
  },
  {
   "cell_type": "code",
   "execution_count": 11,
   "metadata": {},
   "outputs": [
    {
     "data": {
      "text/plain": [
       "204"
      ]
     },
     "execution_count": 11,
     "metadata": {},
     "output_type": "execute_result"
    }
   ],
   "source": [
    "len(pt)"
   ]
  },
  {
   "cell_type": "code",
   "execution_count": 12,
   "metadata": {},
   "outputs": [
    {
     "name": "stdout",
     "output_type": "stream",
     "text": [
      "number of images: 204\n",
      "remove ../data_finetune/data_train/mega_age/6/1/22558.jpg\n",
      "remove ../data_finetune/data_train/mega_age/6/1/12579.jpg\n",
      "remove ../data_finetune/data_train/mega_age/6/1/13194.jpg\n",
      "remove ../data_finetune/data_train/mega_age/6/1/32424.jpg\n",
      "remove ../data_finetune/data_train/mega_age/6/1/20558.jpg\n",
      "remove ../data_finetune/data_train/mega_age/6/1/21048.jpg\n",
      "remove ../data_finetune/data_train/mega_age/6/1/12622.jpg\n",
      "remove ../data_finetune/data_train/mega_age/6/1/30015.jpg\n",
      "remove ../data_finetune/data_train/mega_age/6/1/36425.jpg\n",
      "remove ../data_finetune/data_train/mega_age/6/1/12441.jpg\n",
      "remove ../data_finetune/data_train/mega_age/6/1/30757.jpg\n",
      "remove ../data_finetune/data_train/mega_age/6/1/22013.jpg\n",
      "remove ../data_finetune/data_train/mega_age/6/1/2822.jpg\n",
      "remove ../data_finetune/data_train/mega_age/6/1/39397.jpg\n",
      "remove ../data_finetune/data_train/mega_age/6/1/31536.jpg\n",
      "remove ../data_finetune/data_train/mega_age/6/1/16186.jpg\n",
      "remove ../data_finetune/data_train/mega_age/6/1/13929.jpg\n",
      "remove ../data_finetune/data_train/mega_age/6/1/13175.jpg\n",
      "remove ../data_finetune/data_train/mega_age/6/1/9696.jpg\n",
      "remove ../data_finetune/data_train/mega_age/6/1/12501.jpg\n",
      "remove ../data_finetune/data_train/mega_age/6/1/39935.jpg\n",
      "remove ../data_finetune/data_train/mega_age/6/1/26428.jpg\n",
      "remove ../data_finetune/data_train/mega_age/6/1/5343.jpg\n",
      "remove ../data_finetune/data_train/mega_age/6/1/4958.jpg\n",
      "remove ../data_finetune/data_train/mega_age/6/1/25350.jpg\n",
      "remove ../data_finetune/data_train/mega_age/6/1/11096.jpg\n",
      "remove ../data_finetune/data_train/mega_age/6/1/21025.jpg\n",
      "remove ../data_finetune/data_train/mega_age/6/1/36103.jpg\n",
      "remove ../data_finetune/data_train/mega_age/6/1/37928.jpg\n",
      "remove ../data_finetune/data_train/mega_age/6/1/6675.jpg\n",
      "remove ../data_finetune/data_train/mega_age/6/1/29595.jpg\n",
      "remove ../data_finetune/data_train/mega_age/6/1/17541.jpg\n",
      "remove ../data_finetune/data_train/mega_age/6/1/24201.jpg\n",
      "remove ../data_finetune/data_train/mega_age/6/1/16959.jpg\n",
      "remove ../data_finetune/data_train/mega_age/6/1/19601.jpg\n",
      "remove ../data_finetune/data_train/mega_age/6/1/24389.jpg\n",
      "remove ../data_finetune/data_train/mega_age/6/1/22470.jpg\n",
      "remove ../data_finetune/data_train/mega_age/6/1/13747.jpg\n",
      "remove ../data_finetune/data_train/mega_age/6/1/10366.jpg\n",
      "remove ../data_finetune/data_train/mega_age/6/1/25217.jpg\n",
      "remove ../data_finetune/data_train/mega_age/6/1/25421.jpg\n",
      "remove ../data_finetune/data_train/mega_age/6/1/26556.jpg\n",
      "remove ../data_finetune/data_train/mega_age/6/1/27310.jpg\n",
      "remove ../data_finetune/data_train/mega_age/6/1/35036.jpg\n",
      "remove ../data_finetune/data_train/mega_age/6/1/27540.jpg\n",
      "remove ../data_finetune/data_train/mega_age/6/1/29361.jpg\n",
      "remove ../data_finetune/data_train/mega_age/6/1/4980.jpg\n",
      "remove ../data_finetune/data_train/mega_age/6/1/7613.jpg\n",
      "remove ../data_finetune/data_train/mega_age/6/1/25478.jpg\n",
      "remove ../data_finetune/data_train/mega_age/6/1/33217.jpg\n",
      "remove ../data_finetune/data_train/mega_age/6/1/27450.jpg\n",
      "remove ../data_finetune/data_train/mega_age/6/1/10720.jpg\n",
      "remove ../data_finetune/data_train/mega_age/6/1/36702.jpg\n",
      "remove ../data_finetune/data_train/mega_age/6/1/36287.jpg\n",
      "remove ../data_finetune/data_train/mega_age/6/1/39785.jpg\n",
      "remove ../data_finetune/data_train/mega_age/6/1/28950.jpg\n",
      "remove ../data_finetune/data_train/mega_age/6/1/23544.jpg\n",
      "remove ../data_finetune/data_train/mega_age/6/1/9002.jpg\n",
      "remove ../data_finetune/data_train/mega_age/6/1/37014.jpg\n",
      "remove ../data_finetune/data_train/mega_age/6/1/25863.jpg\n",
      "remove ../data_finetune/data_train/mega_age/6/1/26856.jpg\n",
      "remove ../data_finetune/data_train/mega_age/6/1/37915.jpg\n",
      "remove ../data_finetune/data_train/mega_age/6/1/13076.jpg\n",
      "remove ../data_finetune/data_train/mega_age/6/1/32357.jpg\n",
      "remove ../data_finetune/data_train/mega_age/6/1/36293.jpg\n",
      "remove ../data_finetune/data_train/mega_age/6/1/28565.jpg\n",
      "remove ../data_finetune/data_train/mega_age/6/1/21242.jpg\n",
      "remove ../data_finetune/data_train/mega_age/6/1/17354.jpg\n",
      "remove ../data_finetune/data_train/mega_age/6/1/19267.jpg\n"
     ]
    }
   ],
   "source": [
    "print(\"number of images: {}\".format(len(pt)))\n",
    "count = 0\n",
    "for i in range(int(len(pt)/2)):\n",
    "    nber = random.randint(0,len(pt))\n",
    "    try:\n",
    "        img = cp_pt[nber]\n",
    "        os.remove(img)\n",
    "        count +=1\n",
    "        print(\"remove {}\".format(img))\n",
    "    except:\n",
    "        pass"
   ]
  },
  {
   "cell_type": "code",
   "execution_count": 13,
   "metadata": {},
   "outputs": [
    {
     "data": {
      "text/plain": [
       "69"
      ]
     },
     "execution_count": 13,
     "metadata": {},
     "output_type": "execute_result"
    }
   ],
   "source": [
    "count"
   ]
  },
  {
   "cell_type": "code",
   "execution_count": 14,
   "metadata": {},
   "outputs": [],
   "source": [
    "# i = cv2.imread('../data_aug_phase3/4/1/6219-_0_2001.jpg')"
   ]
  },
  {
   "cell_type": "code",
   "execution_count": 15,
   "metadata": {},
   "outputs": [],
   "source": [
    "# i.shape"
   ]
  },
  {
   "cell_type": "markdown",
   "metadata": {},
   "source": [
    "# Data pre-train"
   ]
  },
  {
   "cell_type": "code",
   "execution_count": 16,
   "metadata": {},
   "outputs": [],
   "source": [
    "list_age = get_age_label(all_image_data)\n",
    "set_age = ['1', '2', '3', '4', '5', '6', '7', '8', '9', '0']\n",
    "count_age_train = []\n",
    "for ii in set_age:\n",
    "    count_age_train.append(list_age.count(ii))"
   ]
  },
  {
   "cell_type": "code",
   "execution_count": 17,
   "metadata": {},
   "outputs": [
    {
     "data": {
      "text/plain": [
       "[0, 0, 0, 0, 0, 0, 0, 0, 0, 0]"
      ]
     },
     "execution_count": 17,
     "metadata": {},
     "output_type": "execute_result"
    }
   ],
   "source": [
    "count_age_train"
   ]
  },
  {
   "cell_type": "code",
   "execution_count": null,
   "metadata": {},
   "outputs": [],
   "source": []
  },
  {
   "cell_type": "code",
   "execution_count": 18,
   "metadata": {},
   "outputs": [],
   "source": [
    "all_data_original = get_list_path('../data')\n",
    "list_age_original = get_age_label(all_data_original)\n",
    "count_age_train_original = []\n",
    "for ii in set_age:\n",
    "#     print(ii)\n",
    "    count_age_train_original.append(list_age_original.count(ii))"
   ]
  },
  {
   "cell_type": "code",
   "execution_count": 19,
   "metadata": {},
   "outputs": [
    {
     "data": {
      "text/plain": [
       "[0, 0, 0, 0, 0, 0, 0, 0, 0, 0]"
      ]
     },
     "execution_count": 19,
     "metadata": {},
     "output_type": "execute_result"
    }
   ],
   "source": [
    "count_age_train_original"
   ]
  },
  {
   "cell_type": "code",
   "execution_count": 20,
   "metadata": {},
   "outputs": [],
   "source": [
    "count_aug = np.asarray(count_age_train) - np.asarray(count_age_train_original)"
   ]
  },
  {
   "cell_type": "code",
   "execution_count": 21,
   "metadata": {},
   "outputs": [
    {
     "data": {
      "text/plain": [
       "array([0, 0, 0, 0, 0, 0, 0, 0, 0, 0])"
      ]
     },
     "execution_count": 21,
     "metadata": {},
     "output_type": "execute_result"
    }
   ],
   "source": [
    "count_aug"
   ]
  },
  {
   "cell_type": "markdown",
   "metadata": {},
   "source": [
    "# Data Training ( original + augmentation)"
   ]
  },
  {
   "cell_type": "code",
   "execution_count": 22,
   "metadata": {},
   "outputs": [
    {
     "data": {
      "image/png": "[encoded data removed]",
      "text/plain": [
       "<Figure size 432x288 with 1 Axes>"
      ]
     },
     "metadata": {
      "needs_background": "light"
     },
     "output_type": "display_data"
    }
   ],
   "source": [
    "labels = ['1', '2', '3', '4', '5', '6', '7', '8', '9', '0']\n",
    "index = np.arange(len(labels))\n",
    "plt.bar(index, count_age_train)\n",
    "plt.xlabel('Label image', fontsize=20)\n",
    "plt.ylabel('count image', fontsize=20)\n",
    "plt.xticks(index, labels, fontsize=20)\n",
    "plt.title(count_age_train)\n",
    "plt.show()"
   ]
  },
  {
   "cell_type": "markdown",
   "metadata": {},
   "source": [
    "# Data Augmentation"
   ]
  },
  {
   "cell_type": "code",
   "execution_count": 23,
   "metadata": {},
   "outputs": [
    {
     "data": {
      "image/png": "[encoded data removed]",
      "text/plain": [
       "<Figure size 432x288 with 1 Axes>"
      ]
     },
     "metadata": {
      "needs_background": "light"
     },
     "output_type": "display_data"
    }
   ],
   "source": [
    "labels = ['1', '2', '3', '4', '5', '6', '7', '8', '9', '0']\n",
    "index = np.arange(len(labels))\n",
    "plt.bar(index, count_aug)\n",
    "plt.xlabel('Label image', fontsize=20)\n",
    "plt.ylabel('count image', fontsize=20)\n",
    "plt.xticks(index, labels, fontsize=20)\n",
    "plt.show()"
   ]
  },
  {
   "cell_type": "code",
   "execution_count": null,
   "metadata": {},
   "outputs": [],
   "source": []
  },
  {
   "cell_type": "code",
   "execution_count": null,
   "metadata": {},
   "outputs": [],
   "source": []
  },
  {
   "cell_type": "markdown",
   "metadata": {},
   "source": [
    "# Data Original"
   ]
  },
  {
   "cell_type": "code",
   "execution_count": 24,
   "metadata": {},
   "outputs": [
    {
     "data": {
      "image/png": "[encoded data removed]",
      "text/plain": [
       "<Figure size 432x288 with 1 Axes>"
      ]
     },
     "metadata": {
      "needs_background": "light"
     },
     "output_type": "display_data"
    }
   ],
   "source": [
    "labels = ['1', '2', '3', '4', '5', '6', '7', '8', '9', '0']\n",
    "index = np.arange(len(labels))\n",
    "plt.bar(index, count_age_train_original)\n",
    "plt.xlabel('Label image', fontsize=20)\n",
    "plt.ylabel('count image', fontsize=20)\n",
    "plt.xticks(index, labels, fontsize=20)\n",
    "plt.title(count_age_train_original)\n",
    "plt.show()"
   ]
  },
  {
   "cell_type": "markdown",
   "metadata": {},
   "source": [
    "# Data finetuning"
   ]
  },
  {
   "cell_type": "code",
   "execution_count": 25,
   "metadata": {},
   "outputs": [],
   "source": [
    "path_ds_train = '../data_finetune/data_train'\n",
    "path_ds_test = '../data_finetune/data_test'"
   ]
  },
  {
   "cell_type": "code",
   "execution_count": 26,
   "metadata": {},
   "outputs": [],
   "source": [
    "all_path_train = glob.glob(path_ds_train + '/*/*/*/*.jpg')\n",
    "all_path_test = glob.glob(path_ds_test + '/*/*/*/*.jpg')"
   ]
  },
  {
   "cell_type": "code",
   "execution_count": null,
   "metadata": {},
   "outputs": [],
   "source": []
  },
  {
   "cell_type": "code",
   "execution_count": 27,
   "metadata": {},
   "outputs": [],
   "source": [
    "def count_age(all_path_ds):\n",
    "    list_age = get_age_label(all_path_ds)\n",
    "    set_age = ['1', '2', '3', '4', '5', '6', '7', '8', '9', '0']\n",
    "    count_age = []\n",
    "    for ii in set_age:\n",
    "        count_age.append(list_age.count(ii))\n",
    "        \n",
    "    return count_age"
   ]
  },
  {
   "cell_type": "code",
   "execution_count": 28,
   "metadata": {},
   "outputs": [],
   "source": [
    "def draw_statistic(count_age, mode):\n",
    "    fig = plt.figure(figsize=(12,8))\n",
    "    labels = ['1', '2', '3', '4', '5', '6', '7', '8', '9', '0']\n",
    "    index = np.arange(len(labels))\n",
    "    plt.bar(index, count_age)\n",
    "    plt.xlabel('Label image {}'.format(mode), fontsize=20)\n",
    "    plt.ylabel('count image {}'.format(mode), fontsize=20)\n",
    "    plt.xticks(index, labels, fontsize=20)\n",
    "    plt.title(count_age)\n",
    "    plt.show()"
   ]
  },
  {
   "cell_type": "markdown",
   "metadata": {},
   "source": [
    "# training"
   ]
  },
  {
   "cell_type": "code",
   "execution_count": 29,
   "metadata": {},
   "outputs": [
    {
     "name": "stdout",
     "output_type": "stream",
     "text": [
      "59222\n"
     ]
    },
    {
     "data": {
      "image/png": "[encoded data removed]",
      "text/plain": [
       "<Figure size 864x576 with 1 Axes>"
      ]
     },
     "metadata": {
      "needs_background": "light"
     },
     "output_type": "display_data"
    }
   ],
   "source": [
    "train_age = count_age(all_path_train)\n",
    "print(sum(train_age))\n",
    "draw_statistic(train_age, 'train')"
   ]
  },
  {
   "cell_type": "code",
   "execution_count": 30,
   "metadata": {},
   "outputs": [
    {
     "data": {
      "image/png": "[encoded data removed]",
      "text/plain": [
       "<Figure size 864x576 with 1 Axes>"
      ]
     },
     "metadata": {
      "needs_background": "light"
     },
     "output_type": "display_data"
    }
   ],
   "source": [
    "test_age = count_age(all_path_test)\n",
    "draw_statistic(test_age, 'test')"
   ]
  },
  {
   "cell_type": "code",
   "execution_count": null,
   "metadata": {},
   "outputs": [],
   "source": []
  },
  {
   "cell_type": "code",
   "execution_count": 31,
   "metadata": {},
   "outputs": [
    {
     "ename": "NameError",
     "evalue": "name 'all_path_image' is not defined",
     "output_type": "error",
     "traceback": [
      "\u001b[0;31m---------------------------------------------------------------------------\u001b[0m",
      "\u001b[0;31mNameError\u001b[0m                                 Traceback (most recent call last)",
      "\u001b[0;32m<ipython-input-31-d376652e66c0>\u001b[0m in \u001b[0;36m<module>\u001b[0;34m\u001b[0m\n\u001b[0;32m----> 1\u001b[0;31m \u001b[0mlen\u001b[0m\u001b[0;34m(\u001b[0m\u001b[0mall_path_image\u001b[0m\u001b[0;34m)\u001b[0m\u001b[0;34m\u001b[0m\u001b[0;34m\u001b[0m\u001b[0m\n\u001b[0m",
      "\u001b[0;31mNameError\u001b[0m: name 'all_path_image' is not defined"
     ]
    }
   ],
   "source": [
    "len(all_path_image)"
   ]
  },
  {
   "cell_type": "code",
   "execution_count": null,
   "metadata": {},
   "outputs": [],
   "source": [
    "all_path_image.extend(all_image_data)"
   ]
  },
  {
   "cell_type": "code",
   "execution_count": null,
   "metadata": {},
   "outputs": [],
   "source": [
    "len(all_path_image)"
   ]
  },
  {
   "cell_type": "code",
   "execution_count": null,
   "metadata": {},
   "outputs": [],
   "source": [
    "339169-68390"
   ]
  },
  {
   "cell_type": "code",
   "execution_count": null,
   "metadata": {},
   "outputs": [],
   "source": [
    "list_age = get_age_label(all_path_image)\n",
    "set_age = ['1', '2', '3', '4', '5', '6', '7', '8', '9', '0']\n",
    "count_age_finetune = []\n",
    "for ii in set_age:\n",
    "    count_age_finetune.append(list_age.count(ii))"
   ]
  },
  {
   "cell_type": "code",
   "execution_count": null,
   "metadata": {},
   "outputs": [],
   "source": [
    "len(list_age)"
   ]
  },
  {
   "cell_type": "code",
   "execution_count": null,
   "metadata": {},
   "outputs": [],
   "source": [
    "count_age_finetune"
   ]
  },
  {
   "cell_type": "code",
   "execution_count": null,
   "metadata": {},
   "outputs": [],
   "source": [
    "fig = plt.figure(figsize=(12,8))\n",
    "labels = ['1', '2', '3', '4', '5', '6', '7', '8', '9', '0']\n",
    "index = np.arange(len(labels))\n",
    "plt.bar(index, count_age_finetune)\n",
    "plt.xlabel('Label image', fontsize=20)\n",
    "plt.ylabel('count image', fontsize=20)\n",
    "plt.xticks(index, labels, fontsize=20)\n",
    "plt.title(count_age_finetune)\n",
    "plt.show()"
   ]
  },
  {
   "cell_type": "markdown",
   "metadata": {},
   "source": [
    "# Data augmentation ( data + megaage)"
   ]
  },
  {
   "cell_type": "code",
   "execution_count": null,
   "metadata": {},
   "outputs": [],
   "source": []
  },
  {
   "cell_type": "code",
   "execution_count": null,
   "metadata": {},
   "outputs": [],
   "source": []
  },
  {
   "cell_type": "code",
   "execution_count": null,
   "metadata": {},
   "outputs": [],
   "source": []
  },
  {
   "cell_type": "code",
   "execution_count": null,
   "metadata": {},
   "outputs": [],
   "source": []
  }
 ],
 "metadata": {
  "kernelspec": {
   "display_name": "Python 3",
   "language": "python",
   "name": "python3"
  },
  "language_info": {
   "codemirror_mode": {
    "name": "ipython",
    "version": 3
   },
   "file_extension": ".py",
   "mimetype": "text/x-python",
   "name": "python",
   "nbconvert_exporter": "python",
   "pygments_lexer": "ipython3",
   "version": "3.6.8"
  }
 },
 "nbformat": 4,
 "nbformat_minor": 2
}
